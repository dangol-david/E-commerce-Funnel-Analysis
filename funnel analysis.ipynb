{
 "cells": [
  {
   "cell_type": "code",
   "execution_count": 1,
   "id": "d2510a82",
   "metadata": {},
   "outputs": [],
   "source": [
    "import pandas as pd\n",
    "import numpy as np\n",
    "import matplotlib.pyplot as plt\n",
    "import seaborn as sns\n",
    "import plotly.graph_objects as go"
   ]
  },
  {
   "cell_type": "code",
   "execution_count": 2,
   "id": "7d3a9387",
   "metadata": {},
   "outputs": [
    {
     "data": {
      "text/html": [
       "<div>\n",
       "<style scoped>\n",
       "    .dataframe tbody tr th:only-of-type {\n",
       "        vertical-align: middle;\n",
       "    }\n",
       "\n",
       "    .dataframe tbody tr th {\n",
       "        vertical-align: top;\n",
       "    }\n",
       "\n",
       "    .dataframe thead th {\n",
       "        text-align: right;\n",
       "    }\n",
       "</style>\n",
       "<table border=\"1\" class=\"dataframe\">\n",
       "  <thead>\n",
       "    <tr style=\"text-align: right;\">\n",
       "      <th></th>\n",
       "      <th>event_date</th>\n",
       "      <th>event_timestamp</th>\n",
       "      <th>event_name</th>\n",
       "      <th>event_params</th>\n",
       "      <th>event_bundle_sequence_id</th>\n",
       "      <th>user_pseudo_id</th>\n",
       "      <th>privacy_info</th>\n",
       "      <th>user_properties</th>\n",
       "      <th>user_first_touch_timestamp</th>\n",
       "      <th>user_ltv</th>\n",
       "      <th>device</th>\n",
       "      <th>geo</th>\n",
       "      <th>traffic_source</th>\n",
       "      <th>stream_id</th>\n",
       "      <th>platform</th>\n",
       "      <th>ecommerce</th>\n",
       "      <th>items</th>\n",
       "    </tr>\n",
       "  </thead>\n",
       "  <tbody>\n",
       "    <tr>\n",
       "      <th>0</th>\n",
       "      <td>20210131</td>\n",
       "      <td>1612069510766593</td>\n",
       "      <td>page_view</td>\n",
       "      <td>[{'key': 'gclid', 'value': {}}, {'key': 'gclsr...</td>\n",
       "      <td>6595101026</td>\n",
       "      <td>1.026454e+06</td>\n",
       "      <td>{'uses_transient_token': 'No'}</td>\n",
       "      <td>[]</td>\n",
       "      <td>1.612070e+15</td>\n",
       "      <td>{'revenue': 0, 'currency': 'USD'}</td>\n",
       "      <td>{'category': 'mobile', 'mobile_brand_name': 'A...</td>\n",
       "      <td>{'continent': 'Americas', 'sub_continent': 'No...</td>\n",
       "      <td>{'medium': 'organic', 'name': '(organic)', 'so...</td>\n",
       "      <td>2100450278</td>\n",
       "      <td>WEB</td>\n",
       "      <td>{}</td>\n",
       "      <td>[]</td>\n",
       "    </tr>\n",
       "    <tr>\n",
       "      <th>1</th>\n",
       "      <td>20210131</td>\n",
       "      <td>1612069529243877</td>\n",
       "      <td>scroll</td>\n",
       "      <td>[{'key': 'debug_mode', 'value': {'int_value': ...</td>\n",
       "      <td>9011338476</td>\n",
       "      <td>1.026454e+06</td>\n",
       "      <td>{'uses_transient_token': 'No'}</td>\n",
       "      <td>[]</td>\n",
       "      <td>1.612070e+15</td>\n",
       "      <td>{'revenue': 0, 'currency': 'USD'}</td>\n",
       "      <td>{'category': 'mobile', 'mobile_brand_name': 'A...</td>\n",
       "      <td>{'continent': 'Americas', 'sub_continent': 'No...</td>\n",
       "      <td>{'medium': 'organic', 'name': '(organic)', 'so...</td>\n",
       "      <td>2100450278</td>\n",
       "      <td>WEB</td>\n",
       "      <td>{}</td>\n",
       "      <td>[]</td>\n",
       "    </tr>\n",
       "    <tr>\n",
       "      <th>2</th>\n",
       "      <td>20210131</td>\n",
       "      <td>1612069515781635</td>\n",
       "      <td>page_view</td>\n",
       "      <td>[{'key': 'debug_mode', 'value': {'int_value': ...</td>\n",
       "      <td>-6830522854</td>\n",
       "      <td>1.026454e+06</td>\n",
       "      <td>{'uses_transient_token': 'No'}</td>\n",
       "      <td>[]</td>\n",
       "      <td>1.612070e+15</td>\n",
       "      <td>{'revenue': 0, 'currency': 'USD'}</td>\n",
       "      <td>{'category': 'mobile', 'mobile_brand_name': 'A...</td>\n",
       "      <td>{'continent': 'Americas', 'sub_continent': 'No...</td>\n",
       "      <td>{'medium': 'organic', 'name': '(organic)', 'so...</td>\n",
       "      <td>2100450278</td>\n",
       "      <td>WEB</td>\n",
       "      <td>{}</td>\n",
       "      <td>[]</td>\n",
       "    </tr>\n",
       "    <tr>\n",
       "      <th>3</th>\n",
       "      <td>20210131</td>\n",
       "      <td>1612069530073506</td>\n",
       "      <td>user_engagement</td>\n",
       "      <td>[{'key': 'page_location', 'value': {'string_va...</td>\n",
       "      <td>-8264942910</td>\n",
       "      <td>1.026454e+06</td>\n",
       "      <td>{'uses_transient_token': 'No'}</td>\n",
       "      <td>[]</td>\n",
       "      <td>1.612070e+15</td>\n",
       "      <td>{'revenue': 0, 'currency': 'USD'}</td>\n",
       "      <td>{'category': 'mobile', 'mobile_brand_name': 'A...</td>\n",
       "      <td>{'continent': 'Americas', 'sub_continent': 'No...</td>\n",
       "      <td>{'medium': 'organic', 'name': '(organic)', 'so...</td>\n",
       "      <td>2100450278</td>\n",
       "      <td>WEB</td>\n",
       "      <td>{}</td>\n",
       "      <td>[]</td>\n",
       "    </tr>\n",
       "    <tr>\n",
       "      <th>4</th>\n",
       "      <td>20210131</td>\n",
       "      <td>1612069510766593</td>\n",
       "      <td>session_start</td>\n",
       "      <td>[{'key': 'ga_session_number', 'value': {'int_v...</td>\n",
       "      <td>6595101026</td>\n",
       "      <td>1.026454e+06</td>\n",
       "      <td>{'uses_transient_token': 'No'}</td>\n",
       "      <td>[]</td>\n",
       "      <td>1.612070e+15</td>\n",
       "      <td>{'revenue': 0, 'currency': 'USD'}</td>\n",
       "      <td>{'category': 'mobile', 'mobile_brand_name': 'A...</td>\n",
       "      <td>{'continent': 'Americas', 'sub_continent': 'No...</td>\n",
       "      <td>{'medium': 'organic', 'name': '(organic)', 'so...</td>\n",
       "      <td>2100450278</td>\n",
       "      <td>WEB</td>\n",
       "      <td>{}</td>\n",
       "      <td>[]</td>\n",
       "    </tr>\n",
       "  </tbody>\n",
       "</table>\n",
       "</div>"
      ],
      "text/plain": [
       "   event_date   event_timestamp       event_name  \\\n",
       "0    20210131  1612069510766593        page_view   \n",
       "1    20210131  1612069529243877           scroll   \n",
       "2    20210131  1612069515781635        page_view   \n",
       "3    20210131  1612069530073506  user_engagement   \n",
       "4    20210131  1612069510766593    session_start   \n",
       "\n",
       "                                        event_params  \\\n",
       "0  [{'key': 'gclid', 'value': {}}, {'key': 'gclsr...   \n",
       "1  [{'key': 'debug_mode', 'value': {'int_value': ...   \n",
       "2  [{'key': 'debug_mode', 'value': {'int_value': ...   \n",
       "3  [{'key': 'page_location', 'value': {'string_va...   \n",
       "4  [{'key': 'ga_session_number', 'value': {'int_v...   \n",
       "\n",
       "   event_bundle_sequence_id  user_pseudo_id                    privacy_info  \\\n",
       "0                6595101026    1.026454e+06  {'uses_transient_token': 'No'}   \n",
       "1                9011338476    1.026454e+06  {'uses_transient_token': 'No'}   \n",
       "2               -6830522854    1.026454e+06  {'uses_transient_token': 'No'}   \n",
       "3               -8264942910    1.026454e+06  {'uses_transient_token': 'No'}   \n",
       "4                6595101026    1.026454e+06  {'uses_transient_token': 'No'}   \n",
       "\n",
       "  user_properties  user_first_touch_timestamp  \\\n",
       "0              []                1.612070e+15   \n",
       "1              []                1.612070e+15   \n",
       "2              []                1.612070e+15   \n",
       "3              []                1.612070e+15   \n",
       "4              []                1.612070e+15   \n",
       "\n",
       "                            user_ltv  \\\n",
       "0  {'revenue': 0, 'currency': 'USD'}   \n",
       "1  {'revenue': 0, 'currency': 'USD'}   \n",
       "2  {'revenue': 0, 'currency': 'USD'}   \n",
       "3  {'revenue': 0, 'currency': 'USD'}   \n",
       "4  {'revenue': 0, 'currency': 'USD'}   \n",
       "\n",
       "                                              device  \\\n",
       "0  {'category': 'mobile', 'mobile_brand_name': 'A...   \n",
       "1  {'category': 'mobile', 'mobile_brand_name': 'A...   \n",
       "2  {'category': 'mobile', 'mobile_brand_name': 'A...   \n",
       "3  {'category': 'mobile', 'mobile_brand_name': 'A...   \n",
       "4  {'category': 'mobile', 'mobile_brand_name': 'A...   \n",
       "\n",
       "                                                 geo  \\\n",
       "0  {'continent': 'Americas', 'sub_continent': 'No...   \n",
       "1  {'continent': 'Americas', 'sub_continent': 'No...   \n",
       "2  {'continent': 'Americas', 'sub_continent': 'No...   \n",
       "3  {'continent': 'Americas', 'sub_continent': 'No...   \n",
       "4  {'continent': 'Americas', 'sub_continent': 'No...   \n",
       "\n",
       "                                      traffic_source   stream_id platform  \\\n",
       "0  {'medium': 'organic', 'name': '(organic)', 'so...  2100450278      WEB   \n",
       "1  {'medium': 'organic', 'name': '(organic)', 'so...  2100450278      WEB   \n",
       "2  {'medium': 'organic', 'name': '(organic)', 'so...  2100450278      WEB   \n",
       "3  {'medium': 'organic', 'name': '(organic)', 'so...  2100450278      WEB   \n",
       "4  {'medium': 'organic', 'name': '(organic)', 'so...  2100450278      WEB   \n",
       "\n",
       "  ecommerce items  \n",
       "0        {}    []  \n",
       "1        {}    []  \n",
       "2        {}    []  \n",
       "3        {}    []  \n",
       "4        {}    []  "
      ]
     },
     "metadata": {},
     "output_type": "display_data"
    }
   ],
   "source": [
    "df = pd.read_json(r'C:\\Users\\Asus\\OneDrive\\Desktop\\sewa\\customer\\bq-results-sample\\bq-results-sample.json', lines=True)\n",
    "display(df.head())"
   ]
  },
  {
   "cell_type": "code",
   "execution_count": 4,
   "id": "050c72ca",
   "metadata": {},
   "outputs": [
    {
     "data": {
      "text/html": [
       "<div>\n",
       "<style scoped>\n",
       "    .dataframe tbody tr th:only-of-type {\n",
       "        vertical-align: middle;\n",
       "    }\n",
       "\n",
       "    .dataframe tbody tr th {\n",
       "        vertical-align: top;\n",
       "    }\n",
       "\n",
       "    .dataframe thead th {\n",
       "        text-align: right;\n",
       "    }\n",
       "</style>\n",
       "<table border=\"1\" class=\"dataframe\">\n",
       "  <thead>\n",
       "    <tr style=\"text-align: right;\">\n",
       "      <th></th>\n",
       "      <th>event_date</th>\n",
       "      <th>event_timestamp</th>\n",
       "      <th>event_name</th>\n",
       "      <th>event_params</th>\n",
       "      <th>event_bundle_sequence_id</th>\n",
       "      <th>user_pseudo_id</th>\n",
       "      <th>privacy_info</th>\n",
       "      <th>user_properties</th>\n",
       "      <th>user_first_touch_timestamp</th>\n",
       "      <th>user_ltv</th>\n",
       "      <th>device</th>\n",
       "      <th>geo</th>\n",
       "      <th>traffic_source</th>\n",
       "      <th>stream_id</th>\n",
       "      <th>platform</th>\n",
       "      <th>ecommerce</th>\n",
       "      <th>items</th>\n",
       "    </tr>\n",
       "  </thead>\n",
       "  <tbody>\n",
       "    <tr>\n",
       "      <th>0</th>\n",
       "      <td>20210131</td>\n",
       "      <td>1612069510766593</td>\n",
       "      <td>page_view</td>\n",
       "      <td>[{'key': 'gclid', 'value': {}}, {'key': 'gclsr...</td>\n",
       "      <td>6595101026</td>\n",
       "      <td>1.026454e+06</td>\n",
       "      <td>{'uses_transient_token': 'No'}</td>\n",
       "      <td>[]</td>\n",
       "      <td>1.612070e+15</td>\n",
       "      <td>{'revenue': 0, 'currency': 'USD'}</td>\n",
       "      <td>{'category': 'mobile', 'mobile_brand_name': 'A...</td>\n",
       "      <td>{'continent': 'Americas', 'sub_continent': 'No...</td>\n",
       "      <td>{'medium': 'organic', 'name': '(organic)', 'so...</td>\n",
       "      <td>2100450278</td>\n",
       "      <td>WEB</td>\n",
       "      <td>{}</td>\n",
       "      <td>[]</td>\n",
       "    </tr>\n",
       "    <tr>\n",
       "      <th>1</th>\n",
       "      <td>20210131</td>\n",
       "      <td>1612069529243877</td>\n",
       "      <td>scroll</td>\n",
       "      <td>[{'key': 'debug_mode', 'value': {'int_value': ...</td>\n",
       "      <td>9011338476</td>\n",
       "      <td>1.026454e+06</td>\n",
       "      <td>{'uses_transient_token': 'No'}</td>\n",
       "      <td>[]</td>\n",
       "      <td>1.612070e+15</td>\n",
       "      <td>{'revenue': 0, 'currency': 'USD'}</td>\n",
       "      <td>{'category': 'mobile', 'mobile_brand_name': 'A...</td>\n",
       "      <td>{'continent': 'Americas', 'sub_continent': 'No...</td>\n",
       "      <td>{'medium': 'organic', 'name': '(organic)', 'so...</td>\n",
       "      <td>2100450278</td>\n",
       "      <td>WEB</td>\n",
       "      <td>{}</td>\n",
       "      <td>[]</td>\n",
       "    </tr>\n",
       "    <tr>\n",
       "      <th>2</th>\n",
       "      <td>20210131</td>\n",
       "      <td>1612069515781635</td>\n",
       "      <td>page_view</td>\n",
       "      <td>[{'key': 'debug_mode', 'value': {'int_value': ...</td>\n",
       "      <td>-6830522854</td>\n",
       "      <td>1.026454e+06</td>\n",
       "      <td>{'uses_transient_token': 'No'}</td>\n",
       "      <td>[]</td>\n",
       "      <td>1.612070e+15</td>\n",
       "      <td>{'revenue': 0, 'currency': 'USD'}</td>\n",
       "      <td>{'category': 'mobile', 'mobile_brand_name': 'A...</td>\n",
       "      <td>{'continent': 'Americas', 'sub_continent': 'No...</td>\n",
       "      <td>{'medium': 'organic', 'name': '(organic)', 'so...</td>\n",
       "      <td>2100450278</td>\n",
       "      <td>WEB</td>\n",
       "      <td>{}</td>\n",
       "      <td>[]</td>\n",
       "    </tr>\n",
       "    <tr>\n",
       "      <th>3</th>\n",
       "      <td>20210131</td>\n",
       "      <td>1612069530073506</td>\n",
       "      <td>user_engagement</td>\n",
       "      <td>[{'key': 'page_location', 'value': {'string_va...</td>\n",
       "      <td>-8264942910</td>\n",
       "      <td>1.026454e+06</td>\n",
       "      <td>{'uses_transient_token': 'No'}</td>\n",
       "      <td>[]</td>\n",
       "      <td>1.612070e+15</td>\n",
       "      <td>{'revenue': 0, 'currency': 'USD'}</td>\n",
       "      <td>{'category': 'mobile', 'mobile_brand_name': 'A...</td>\n",
       "      <td>{'continent': 'Americas', 'sub_continent': 'No...</td>\n",
       "      <td>{'medium': 'organic', 'name': '(organic)', 'so...</td>\n",
       "      <td>2100450278</td>\n",
       "      <td>WEB</td>\n",
       "      <td>{}</td>\n",
       "      <td>[]</td>\n",
       "    </tr>\n",
       "    <tr>\n",
       "      <th>4</th>\n",
       "      <td>20210131</td>\n",
       "      <td>1612069510766593</td>\n",
       "      <td>session_start</td>\n",
       "      <td>[{'key': 'ga_session_number', 'value': {'int_v...</td>\n",
       "      <td>6595101026</td>\n",
       "      <td>1.026454e+06</td>\n",
       "      <td>{'uses_transient_token': 'No'}</td>\n",
       "      <td>[]</td>\n",
       "      <td>1.612070e+15</td>\n",
       "      <td>{'revenue': 0, 'currency': 'USD'}</td>\n",
       "      <td>{'category': 'mobile', 'mobile_brand_name': 'A...</td>\n",
       "      <td>{'continent': 'Americas', 'sub_continent': 'No...</td>\n",
       "      <td>{'medium': 'organic', 'name': '(organic)', 'so...</td>\n",
       "      <td>2100450278</td>\n",
       "      <td>WEB</td>\n",
       "      <td>{}</td>\n",
       "      <td>[]</td>\n",
       "    </tr>\n",
       "  </tbody>\n",
       "</table>\n",
       "</div>"
      ],
      "text/plain": [
       "   event_date   event_timestamp       event_name  \\\n",
       "0    20210131  1612069510766593        page_view   \n",
       "1    20210131  1612069529243877           scroll   \n",
       "2    20210131  1612069515781635        page_view   \n",
       "3    20210131  1612069530073506  user_engagement   \n",
       "4    20210131  1612069510766593    session_start   \n",
       "\n",
       "                                        event_params  \\\n",
       "0  [{'key': 'gclid', 'value': {}}, {'key': 'gclsr...   \n",
       "1  [{'key': 'debug_mode', 'value': {'int_value': ...   \n",
       "2  [{'key': 'debug_mode', 'value': {'int_value': ...   \n",
       "3  [{'key': 'page_location', 'value': {'string_va...   \n",
       "4  [{'key': 'ga_session_number', 'value': {'int_v...   \n",
       "\n",
       "   event_bundle_sequence_id  user_pseudo_id                    privacy_info  \\\n",
       "0                6595101026    1.026454e+06  {'uses_transient_token': 'No'}   \n",
       "1                9011338476    1.026454e+06  {'uses_transient_token': 'No'}   \n",
       "2               -6830522854    1.026454e+06  {'uses_transient_token': 'No'}   \n",
       "3               -8264942910    1.026454e+06  {'uses_transient_token': 'No'}   \n",
       "4                6595101026    1.026454e+06  {'uses_transient_token': 'No'}   \n",
       "\n",
       "  user_properties  user_first_touch_timestamp  \\\n",
       "0              []                1.612070e+15   \n",
       "1              []                1.612070e+15   \n",
       "2              []                1.612070e+15   \n",
       "3              []                1.612070e+15   \n",
       "4              []                1.612070e+15   \n",
       "\n",
       "                            user_ltv  \\\n",
       "0  {'revenue': 0, 'currency': 'USD'}   \n",
       "1  {'revenue': 0, 'currency': 'USD'}   \n",
       "2  {'revenue': 0, 'currency': 'USD'}   \n",
       "3  {'revenue': 0, 'currency': 'USD'}   \n",
       "4  {'revenue': 0, 'currency': 'USD'}   \n",
       "\n",
       "                                              device  \\\n",
       "0  {'category': 'mobile', 'mobile_brand_name': 'A...   \n",
       "1  {'category': 'mobile', 'mobile_brand_name': 'A...   \n",
       "2  {'category': 'mobile', 'mobile_brand_name': 'A...   \n",
       "3  {'category': 'mobile', 'mobile_brand_name': 'A...   \n",
       "4  {'category': 'mobile', 'mobile_brand_name': 'A...   \n",
       "\n",
       "                                                 geo  \\\n",
       "0  {'continent': 'Americas', 'sub_continent': 'No...   \n",
       "1  {'continent': 'Americas', 'sub_continent': 'No...   \n",
       "2  {'continent': 'Americas', 'sub_continent': 'No...   \n",
       "3  {'continent': 'Americas', 'sub_continent': 'No...   \n",
       "4  {'continent': 'Americas', 'sub_continent': 'No...   \n",
       "\n",
       "                                      traffic_source   stream_id platform  \\\n",
       "0  {'medium': 'organic', 'name': '(organic)', 'so...  2100450278      WEB   \n",
       "1  {'medium': 'organic', 'name': '(organic)', 'so...  2100450278      WEB   \n",
       "2  {'medium': 'organic', 'name': '(organic)', 'so...  2100450278      WEB   \n",
       "3  {'medium': 'organic', 'name': '(organic)', 'so...  2100450278      WEB   \n",
       "4  {'medium': 'organic', 'name': '(organic)', 'so...  2100450278      WEB   \n",
       "\n",
       "  ecommerce items  \n",
       "0        {}    []  \n",
       "1        {}    []  \n",
       "2        {}    []  \n",
       "3        {}    []  \n",
       "4        {}    []  "
      ]
     },
     "metadata": {},
     "output_type": "display_data"
    },
    {
     "name": "stdout",
     "output_type": "stream",
     "text": [
      "<class 'pandas.core.frame.DataFrame'>\n",
      "RangeIndex: 26489 entries, 0 to 26488\n",
      "Data columns (total 17 columns):\n",
      " #   Column                      Non-Null Count  Dtype  \n",
      "---  ------                      --------------  -----  \n",
      " 0   event_date                  26489 non-null  int64  \n",
      " 1   event_timestamp             26489 non-null  int64  \n",
      " 2   event_name                  26489 non-null  object \n",
      " 3   event_params                26489 non-null  object \n",
      " 4   event_bundle_sequence_id    26489 non-null  int64  \n",
      " 5   user_pseudo_id              26489 non-null  float64\n",
      " 6   privacy_info                26489 non-null  object \n",
      " 7   user_properties             26489 non-null  object \n",
      " 8   user_first_touch_timestamp  25531 non-null  float64\n",
      " 9   user_ltv                    26489 non-null  object \n",
      " 10  device                      26489 non-null  object \n",
      " 11  geo                         26489 non-null  object \n",
      " 12  traffic_source              26489 non-null  object \n",
      " 13  stream_id                   26489 non-null  int64  \n",
      " 14  platform                    26489 non-null  object \n",
      " 15  ecommerce                   26489 non-null  object \n",
      " 16  items                       26489 non-null  object \n",
      "dtypes: float64(2), int64(4), object(11)\n",
      "memory usage: 3.4+ MB\n"
     ]
    },
    {
     "data": {
      "text/plain": [
       "None"
      ]
     },
     "metadata": {},
     "output_type": "display_data"
    },
    {
     "data": {
      "text/html": [
       "<div>\n",
       "<style scoped>\n",
       "    .dataframe tbody tr th:only-of-type {\n",
       "        vertical-align: middle;\n",
       "    }\n",
       "\n",
       "    .dataframe tbody tr th {\n",
       "        vertical-align: top;\n",
       "    }\n",
       "\n",
       "    .dataframe thead th {\n",
       "        text-align: right;\n",
       "    }\n",
       "</style>\n",
       "<table border=\"1\" class=\"dataframe\">\n",
       "  <thead>\n",
       "    <tr style=\"text-align: right;\">\n",
       "      <th></th>\n",
       "      <th>event_date</th>\n",
       "      <th>event_timestamp</th>\n",
       "      <th>event_bundle_sequence_id</th>\n",
       "      <th>user_pseudo_id</th>\n",
       "      <th>user_first_touch_timestamp</th>\n",
       "      <th>stream_id</th>\n",
       "    </tr>\n",
       "  </thead>\n",
       "  <tbody>\n",
       "    <tr>\n",
       "      <th>count</th>\n",
       "      <td>26489.0</td>\n",
       "      <td>2.648900e+04</td>\n",
       "      <td>2.648900e+04</td>\n",
       "      <td>2.648900e+04</td>\n",
       "      <td>2.553100e+04</td>\n",
       "      <td>2.648900e+04</td>\n",
       "    </tr>\n",
       "    <tr>\n",
       "      <th>mean</th>\n",
       "      <td>20210131.0</td>\n",
       "      <td>1.612095e+15</td>\n",
       "      <td>3.315649e+07</td>\n",
       "      <td>3.071288e+08</td>\n",
       "      <td>1.611312e+15</td>\n",
       "      <td>2.100450e+09</td>\n",
       "    </tr>\n",
       "    <tr>\n",
       "      <th>std</th>\n",
       "      <td>0.0</td>\n",
       "      <td>2.525873e+10</td>\n",
       "      <td>5.771148e+09</td>\n",
       "      <td>1.349818e+09</td>\n",
       "      <td>3.721684e+12</td>\n",
       "      <td>0.000000e+00</td>\n",
       "    </tr>\n",
       "    <tr>\n",
       "      <th>min</th>\n",
       "      <td>20210131.0</td>\n",
       "      <td>1.612051e+15</td>\n",
       "      <td>-9.999956e+09</td>\n",
       "      <td>1.026454e+06</td>\n",
       "      <td>1.572274e+15</td>\n",
       "      <td>2.100450e+09</td>\n",
       "    </tr>\n",
       "    <tr>\n",
       "      <th>25%</th>\n",
       "      <td>20210131.0</td>\n",
       "      <td>1.612073e+15</td>\n",
       "      <td>-4.903277e+09</td>\n",
       "      <td>6.177527e+06</td>\n",
       "      <td>1.612056e+15</td>\n",
       "      <td>2.100450e+09</td>\n",
       "    </tr>\n",
       "    <tr>\n",
       "      <th>50%</th>\n",
       "      <td>20210131.0</td>\n",
       "      <td>1.612095e+15</td>\n",
       "      <td>3.952846e+07</td>\n",
       "      <td>2.220593e+07</td>\n",
       "      <td>1.612082e+15</td>\n",
       "      <td>2.100450e+09</td>\n",
       "    </tr>\n",
       "    <tr>\n",
       "      <th>75%</th>\n",
       "      <td>20210131.0</td>\n",
       "      <td>1.612117e+15</td>\n",
       "      <td>4.989680e+09</td>\n",
       "      <td>6.331926e+07</td>\n",
       "      <td>1.612111e+15</td>\n",
       "      <td>2.100450e+09</td>\n",
       "    </tr>\n",
       "    <tr>\n",
       "      <th>max</th>\n",
       "      <td>20210131.0</td>\n",
       "      <td>1.612138e+15</td>\n",
       "      <td>9.998038e+09</td>\n",
       "      <td>9.100857e+09</td>\n",
       "      <td>1.612138e+15</td>\n",
       "      <td>2.100450e+09</td>\n",
       "    </tr>\n",
       "  </tbody>\n",
       "</table>\n",
       "</div>"
      ],
      "text/plain": [
       "       event_date  event_timestamp  event_bundle_sequence_id  user_pseudo_id  \\\n",
       "count     26489.0     2.648900e+04              2.648900e+04    2.648900e+04   \n",
       "mean   20210131.0     1.612095e+15              3.315649e+07    3.071288e+08   \n",
       "std           0.0     2.525873e+10              5.771148e+09    1.349818e+09   \n",
       "min    20210131.0     1.612051e+15             -9.999956e+09    1.026454e+06   \n",
       "25%    20210131.0     1.612073e+15             -4.903277e+09    6.177527e+06   \n",
       "50%    20210131.0     1.612095e+15              3.952846e+07    2.220593e+07   \n",
       "75%    20210131.0     1.612117e+15              4.989680e+09    6.331926e+07   \n",
       "max    20210131.0     1.612138e+15              9.998038e+09    9.100857e+09   \n",
       "\n",
       "       user_first_touch_timestamp     stream_id  \n",
       "count                2.553100e+04  2.648900e+04  \n",
       "mean                 1.611312e+15  2.100450e+09  \n",
       "std                  3.721684e+12  0.000000e+00  \n",
       "min                  1.572274e+15  2.100450e+09  \n",
       "25%                  1.612056e+15  2.100450e+09  \n",
       "50%                  1.612082e+15  2.100450e+09  \n",
       "75%                  1.612111e+15  2.100450e+09  \n",
       "max                  1.612138e+15  2.100450e+09  "
      ]
     },
     "metadata": {},
     "output_type": "display_data"
    },
    {
     "data": {
      "text/plain": [
       "(26489, 17)"
      ]
     },
     "metadata": {},
     "output_type": "display_data"
    }
   ],
   "source": [
    "display(df.head())\n",
    "display(df.info())\n",
    "display(df.describe())\n",
    "display(df.shape)"
   ]
  },
  {
   "cell_type": "code",
   "execution_count": null,
   "id": "f7285784",
   "metadata": {},
   "outputs": [
    {
     "data": {
      "text/plain": [
       "event_name\n",
       "page_view              9498\n",
       "user_engagement        5005\n",
       "scroll                 2870\n",
       "session_start          2760\n",
       "first_visit            2127\n",
       "view_item              1829\n",
       "view_promotion         1190\n",
       "add_to_cart             295\n",
       "select_item             237\n",
       "begin_checkout          234\n",
       "view_search_results     198\n",
       "add_shipping_info       100\n",
       "select_promotion         71\n",
       "add_payment_info         53\n",
       "purchase                 19\n",
       "click                     3\n",
       "Name: count, dtype: int64"
      ]
     },
     "metadata": {},
     "output_type": "display_data"
    }
   ],
   "source": [
    "## Calculate the frequency of each unique value in the event_name column \n",
    "event_counts = df['event_name'].value_counts()\n",
    "display(event_counts)"
   ]
  },
  {
   "cell_type": "code",
   "execution_count": 6,
   "id": "549b4114",
   "metadata": {},
   "outputs": [],
   "source": [
    "## Convert the event_date to datetime and analyze the frequency of events over time."
   ]
  },
  {
   "cell_type": "code",
   "execution_count": 7,
   "id": "cf1999fb",
   "metadata": {},
   "outputs": [
    {
     "data": {
      "text/html": [
       "<div>\n",
       "<style scoped>\n",
       "    .dataframe tbody tr th:only-of-type {\n",
       "        vertical-align: middle;\n",
       "    }\n",
       "\n",
       "    .dataframe tbody tr th {\n",
       "        vertical-align: top;\n",
       "    }\n",
       "\n",
       "    .dataframe thead th {\n",
       "        text-align: right;\n",
       "    }\n",
       "</style>\n",
       "<table border=\"1\" class=\"dataframe\">\n",
       "  <thead>\n",
       "    <tr style=\"text-align: right;\">\n",
       "      <th>event_name</th>\n",
       "      <th>add_payment_info</th>\n",
       "      <th>add_shipping_info</th>\n",
       "      <th>add_to_cart</th>\n",
       "      <th>begin_checkout</th>\n",
       "      <th>click</th>\n",
       "      <th>first_visit</th>\n",
       "      <th>page_view</th>\n",
       "      <th>purchase</th>\n",
       "      <th>scroll</th>\n",
       "      <th>select_item</th>\n",
       "      <th>select_promotion</th>\n",
       "      <th>session_start</th>\n",
       "      <th>user_engagement</th>\n",
       "      <th>view_item</th>\n",
       "      <th>view_promotion</th>\n",
       "      <th>view_search_results</th>\n",
       "    </tr>\n",
       "    <tr>\n",
       "      <th>event_date</th>\n",
       "      <th></th>\n",
       "      <th></th>\n",
       "      <th></th>\n",
       "      <th></th>\n",
       "      <th></th>\n",
       "      <th></th>\n",
       "      <th></th>\n",
       "      <th></th>\n",
       "      <th></th>\n",
       "      <th></th>\n",
       "      <th></th>\n",
       "      <th></th>\n",
       "      <th></th>\n",
       "      <th></th>\n",
       "      <th></th>\n",
       "      <th></th>\n",
       "    </tr>\n",
       "  </thead>\n",
       "  <tbody>\n",
       "    <tr>\n",
       "      <th>2021-01-31</th>\n",
       "      <td>53</td>\n",
       "      <td>100</td>\n",
       "      <td>295</td>\n",
       "      <td>234</td>\n",
       "      <td>3</td>\n",
       "      <td>2127</td>\n",
       "      <td>9498</td>\n",
       "      <td>19</td>\n",
       "      <td>2870</td>\n",
       "      <td>237</td>\n",
       "      <td>71</td>\n",
       "      <td>2760</td>\n",
       "      <td>5005</td>\n",
       "      <td>1829</td>\n",
       "      <td>1190</td>\n",
       "      <td>198</td>\n",
       "    </tr>\n",
       "  </tbody>\n",
       "</table>\n",
       "</div>"
      ],
      "text/plain": [
       "event_name  add_payment_info  add_shipping_info  add_to_cart  begin_checkout  \\\n",
       "event_date                                                                     \n",
       "2021-01-31                53                100          295             234   \n",
       "\n",
       "event_name  click  first_visit  page_view  purchase  scroll  select_item  \\\n",
       "event_date                                                                 \n",
       "2021-01-31      3         2127       9498        19    2870          237   \n",
       "\n",
       "event_name  select_promotion  session_start  user_engagement  view_item  \\\n",
       "event_date                                                                \n",
       "2021-01-31                71           2760             5005       1829   \n",
       "\n",
       "event_name  view_promotion  view_search_results  \n",
       "event_date                                       \n",
       "2021-01-31            1190                  198  "
      ]
     },
     "metadata": {},
     "output_type": "display_data"
    }
   ],
   "source": [
    "df['event_date'] = pd.to_datetime(df['event_date'], format='%Y%m%d')\n",
    "event_frequency_over_time = df.groupby('event_date')['event_name'].value_counts().unstack(fill_value=0)\n",
    "display(event_frequency_over_time)"
   ]
  },
  {
   "cell_type": "code",
   "execution_count": 8,
   "id": "3ff041c8",
   "metadata": {},
   "outputs": [],
   "source": [
    "## \n",
    "## Perform a funnel analysis based on a typical user journey."
   ]
  },
  {
   "cell_type": "code",
   "execution_count": 9,
   "id": "92616f12",
   "metadata": {},
   "outputs": [
    {
     "data": {
      "image/png": "[encoded data removed]",
      "text/plain": [
       "<Figure size 1000x600 with 1 Axes>"
      ]
     },
     "metadata": {},
     "output_type": "display_data"
    }
   ],
   "source": [
    "# Define a potential funnel\n",
    "funnel_events = ['page_view', 'view_item', 'add_to_cart', 'begin_checkout', 'purchase']\n",
    "\n",
    "# Filter funnel_events to include only those present in event_counts\n",
    "available_funnel_events = [event for event in funnel_events if event in event_counts.index]\n",
    "\n",
    "# Calculate the counts for each event in the funnel\n",
    "funnel_counts = event_counts[available_funnel_events]\n",
    "\n",
    "# Create a bar chart to visualize the funnel\n",
    "plt.figure(figsize=(10, 6))\n",
    "funnel_counts.plot(kind='bar')\n",
    "plt.title('User Funnel Analysis (Snapshot)')\n",
    "plt.xlabel('Event')\n",
    "plt.ylabel('Number of Events')\n",
    "plt.xticks(rotation=45, ha='right')\n",
    "plt.tight_layout()\n",
    "plt.show()"
   ]
  },
  {
   "cell_type": "code",
   "execution_count": 10,
   "id": "9ff49b48",
   "metadata": {},
   "outputs": [],
   "source": [
    "# Prepare funnel stage counts\n",
    "# Define the stages of the funnel and calculate the count for each stage\n",
    "funnel_data = {\n",
    "    \"Stage\": [\"page_view\", \"user_engagement\", \"scroll\", \"session_start\",\"first_visit\",\"view_item\",\"view_promotion\",\"add_to_cart\",\"select_item\",\"begin_checkout\",\"view_search_results\",\"add_shipping_info\",\"select_promotion\",\"add_payment_info\",\"purchase\"],\n",
    "    \"Count\": [\n",
    "        len(df[df['event_name'] == 'page_view']),\n",
    "        len(df[df['event_name'] == 'user_engagement']),\n",
    "        len(df[df['event_name'] == 'scroll']),\n",
    "        len(df[df['event_name'] == 'session_start']),\n",
    "        len(df[df['event_name'] == 'first_visit']),\n",
    "        len(df[df['event_name'] == 'view_item']),\n",
    "        len(df[df['event_name'] == 'view_promotion']),\n",
    "        len(df[df['event_name'] == 'add_to_cart']),\n",
    "        len(df[df['event_name'] == 'select_item']),\n",
    "        len(df[df['event_name'] == 'begin_checkout']),\n",
    "        len(df[df['event_name'] == 'view_search_results']),\n",
    "        len(df[df['event_name'] == 'add_shipping_info']),\n",
    "        len(df[df['event_name'] == 'select_promotion']),\n",
    "        len(df[df['event_name'] == 'add_payment_info']),\n",
    "        len(df[df['event_name'] == 'purchase'])\n",
    "    ]\n",
    "}"
   ]
  },
  {
   "cell_type": "code",
   "execution_count": 11,
   "id": "2b81a234",
   "metadata": {},
   "outputs": [
    {
     "data": {
      "application/vnd.plotly.v1+json": {
       "config": {
        "plotlyServerURL": "https://plot.ly"
       },
       "data": [
        {
         "text": [
          "9498 (100.0%)",
          "5005 (52.7%)",
          "2870 (30.2%)",
          "2760 (29.1%)",
          "2127 (22.4%)",
          "1829 (19.3%)",
          "1190 (12.5%)",
          "295 (3.1%)",
          "237 (2.5%)",
          "234 (2.5%)",
          "198 (2.1%)",
          "100 (1.1%)",
          "",
          "",
          ""
         ],
         "textinfo": "text",
         "textposition": "inside",
         "type": "funnel",
         "x": {
          "bdata": "GiWNEzYLyApPCCUHpgQnAe0A6gDGAGQARwA1ABMA",
          "dtype": "i2"
         },
         "y": [
          "page_view",
          "user_engagement",
          "scroll",
          "session_start",
          "first_visit",
          "view_item",
          "view_promotion",
          "add_to_cart",
          "select_item",
          "begin_checkout",
          "view_search_results",
          "add_shipping_info",
          "select_promotion",
          "add_payment_info",
          "purchase"
         ]
        }
       ],
       "layout": {
        "autosize": false,
        "height": 900,
        "template": {
         "data": {
          "bar": [
           {
            "error_x": {
             "color": "#2a3f5f"
            },
            "error_y": {
             "color": "#2a3f5f"
            },
            "marker": {
             "line": {
              "color": "#E5ECF6",
              "width": 0.5
             },
             "pattern": {
              "fillmode": "overlay",
              "size": 10,
              "solidity": 0.2
             }
            },
            "type": "bar"
           }
          ],
          "barpolar": [
           {
            "marker": {
             "line": {
              "color": "#E5ECF6",
              "width": 0.5
             },
             "pattern": {
              "fillmode": "overlay",
              "size": 10,
              "solidity": 0.2
             }
            },
            "type": "barpolar"
           }
          ],
          "carpet": [
           {
            "aaxis": {
             "endlinecolor": "#2a3f5f",
             "gridcolor": "white",
             "linecolor": "white",
             "minorgridcolor": "white",
             "startlinecolor": "#2a3f5f"
            },
            "baxis": {
             "endlinecolor": "#2a3f5f",
             "gridcolor": "white",
             "linecolor": "white",
             "minorgridcolor": "white",
             "startlinecolor": "#2a3f5f"
            },
            "type": "carpet"
           }
          ],
          "choropleth": [
           {
            "colorbar": {
             "outlinewidth": 0,
             "ticks": ""
            },
            "type": "choropleth"
           }
          ],
          "contour": [
           {
            "colorbar": {
             "outlinewidth": 0,
             "ticks": ""
            },
            "colorscale": [
             [
              0,
              "#0d0887"
             ],
             [
              0.1111111111111111,
              "#46039f"
             ],
             [
              0.2222222222222222,
              "#7201a8"
             ],
             [
              0.3333333333333333,
              "#9c179e"
             ],
             [
              0.4444444444444444,
              "#bd3786"
             ],
             [
              0.5555555555555556,
              "#d8576b"
             ],
             [
              0.6666666666666666,
              "#ed7953"
             ],
             [
              0.7777777777777778,
              "#fb9f3a"
             ],
             [
              0.8888888888888888,
              "#fdca26"
             ],
             [
              1,
              "#f0f921"
             ]
            ],
            "type": "contour"
           }
          ],
          "contourcarpet": [
           {
            "colorbar": {
             "outlinewidth": 0,
             "ticks": ""
            },
            "type": "contourcarpet"
           }
          ],
          "heatmap": [
           {
            "colorbar": {
             "outlinewidth": 0,
             "ticks": ""
            },
            "colorscale": [
             [
              0,
              "#0d0887"
             ],
             [
              0.1111111111111111,
              "#46039f"
             ],
             [
              0.2222222222222222,
              "#7201a8"
             ],
             [
              0.3333333333333333,
              "#9c179e"
             ],
             [
              0.4444444444444444,
              "#bd3786"
             ],
             [
              0.5555555555555556,
              "#d8576b"
             ],
             [
              0.6666666666666666,
              "#ed7953"
             ],
             [
              0.7777777777777778,
              "#fb9f3a"
             ],
             [
              0.8888888888888888,
              "#fdca26"
             ],
             [
              1,
              "#f0f921"
             ]
            ],
            "type": "heatmap"
           }
          ],
          "histogram": [
           {
            "marker": {
             "pattern": {
              "fillmode": "overlay",
              "size": 10,
              "solidity": 0.2
             }
            },
            "type": "histogram"
           }
          ],
          "histogram2d": [
           {
            "colorbar": {
             "outlinewidth": 0,
             "ticks": ""
            },
            "colorscale": [
             [
              0,
              "#0d0887"
             ],
             [
              0.1111111111111111,
              "#46039f"
             ],
             [
              0.2222222222222222,
              "#7201a8"
             ],
             [
              0.3333333333333333,
              "#9c179e"
             ],
             [
              0.4444444444444444,
              "#bd3786"
             ],
             [
              0.5555555555555556,
              "#d8576b"
             ],
             [
              0.6666666666666666,
              "#ed7953"
             ],
             [
              0.7777777777777778,
              "#fb9f3a"
             ],
             [
              0.8888888888888888,
              "#fdca26"
             ],
             [
              1,
              "#f0f921"
             ]
            ],
            "type": "histogram2d"
           }
          ],
          "histogram2dcontour": [
           {
            "colorbar": {
             "outlinewidth": 0,
             "ticks": ""
            },
            "colorscale": [
             [
              0,
              "#0d0887"
             ],
             [
              0.1111111111111111,
              "#46039f"
             ],
             [
              0.2222222222222222,
              "#7201a8"
             ],
             [
              0.3333333333333333,
              "#9c179e"
             ],
             [
              0.4444444444444444,
              "#bd3786"
             ],
             [
              0.5555555555555556,
              "#d8576b"
             ],
             [
              0.6666666666666666,
              "#ed7953"
             ],
             [
              0.7777777777777778,
              "#fb9f3a"
             ],
             [
              0.8888888888888888,
              "#fdca26"
             ],
             [
              1,
              "#f0f921"
             ]
            ],
            "type": "histogram2dcontour"
           }
          ],
          "mesh3d": [
           {
            "colorbar": {
             "outlinewidth": 0,
             "ticks": ""
            },
            "type": "mesh3d"
           }
          ],
          "parcoords": [
           {
            "line": {
             "colorbar": {
              "outlinewidth": 0,
              "ticks": ""
             }
            },
            "type": "parcoords"
           }
          ],
          "pie": [
           {
            "automargin": true,
            "type": "pie"
           }
          ],
          "scatter": [
           {
            "fillpattern": {
             "fillmode": "overlay",
             "size": 10,
             "solidity": 0.2
            },
            "type": "scatter"
           }
          ],
          "scatter3d": [
           {
            "line": {
             "colorbar": {
              "outlinewidth": 0,
              "ticks": ""
             }
            },
            "marker": {
             "colorbar": {
              "outlinewidth": 0,
              "ticks": ""
             }
            },
            "type": "scatter3d"
           }
          ],
          "scattercarpet": [
           {
            "marker": {
             "colorbar": {
              "outlinewidth": 0,
              "ticks": ""
             }
            },
            "type": "scattercarpet"
           }
          ],
          "scattergeo": [
           {
            "marker": {
             "colorbar": {
              "outlinewidth": 0,
              "ticks": ""
             }
            },
            "type": "scattergeo"
           }
          ],
          "scattergl": [
           {
            "marker": {
             "colorbar": {
              "outlinewidth": 0,
              "ticks": ""
             }
            },
            "type": "scattergl"
           }
          ],
          "scattermap": [
           {
            "marker": {
             "colorbar": {
              "outlinewidth": 0,
              "ticks": ""
             }
            },
            "type": "scattermap"
           }
          ],
          "scattermapbox": [
           {
            "marker": {
             "colorbar": {
              "outlinewidth": 0,
              "ticks": ""
             }
            },
            "type": "scattermapbox"
           }
          ],
          "scatterpolar": [
           {
            "marker": {
             "colorbar": {
              "outlinewidth": 0,
              "ticks": ""
             }
            },
            "type": "scatterpolar"
           }
          ],
          "scatterpolargl": [
           {
            "marker": {
             "colorbar": {
              "outlinewidth": 0,
              "ticks": ""
             }
            },
            "type": "scatterpolargl"
           }
          ],
          "scatterternary": [
           {
            "marker": {
             "colorbar": {
              "outlinewidth": 0,
              "ticks": ""
             }
            },
            "type": "scatterternary"
           }
          ],
          "surface": [
           {
            "colorbar": {
             "outlinewidth": 0,
             "ticks": ""
            },
            "colorscale": [
             [
              0,
              "#0d0887"
             ],
             [
              0.1111111111111111,
              "#46039f"
             ],
             [
              0.2222222222222222,
              "#7201a8"
             ],
             [
              0.3333333333333333,
              "#9c179e"
             ],
             [
              0.4444444444444444,
              "#bd3786"
             ],
             [
              0.5555555555555556,
              "#d8576b"
             ],
             [
              0.6666666666666666,
              "#ed7953"
             ],
             [
              0.7777777777777778,
              "#fb9f3a"
             ],
             [
              0.8888888888888888,
              "#fdca26"
             ],
             [
              1,
              "#f0f921"
             ]
            ],
            "type": "surface"
           }
          ],
          "table": [
           {
            "cells": {
             "fill": {
              "color": "#EBF0F8"
             },
             "line": {
              "color": "white"
             }
            },
            "header": {
             "fill": {
              "color": "#C8D4E3"
             },
             "line": {
              "color": "white"
             }
            },
            "type": "table"
           }
          ]
         },
         "layout": {
          "annotationdefaults": {
           "arrowcolor": "#2a3f5f",
           "arrowhead": 0,
           "arrowwidth": 1
          },
          "autotypenumbers": "strict",
          "coloraxis": {
           "colorbar": {
            "outlinewidth": 0,
            "ticks": ""
           }
          },
          "colorscale": {
           "diverging": [
            [
             0,
             "#8e0152"
            ],
            [
             0.1,
             "#c51b7d"
            ],
            [
             0.2,
             "#de77ae"
            ],
            [
             0.3,
             "#f1b6da"
            ],
            [
             0.4,
             "#fde0ef"
            ],
            [
             0.5,
             "#f7f7f7"
            ],
            [
             0.6,
             "#e6f5d0"
            ],
            [
             0.7,
             "#b8e186"
            ],
            [
             0.8,
             "#7fbc41"
            ],
            [
             0.9,
             "#4d9221"
            ],
            [
             1,
             "#276419"
            ]
           ],
           "sequential": [
            [
             0,
             "#0d0887"
            ],
            [
             0.1111111111111111,
             "#46039f"
            ],
            [
             0.2222222222222222,
             "#7201a8"
            ],
            [
             0.3333333333333333,
             "#9c179e"
            ],
            [
             0.4444444444444444,
             "#bd3786"
            ],
            [
             0.5555555555555556,
             "#d8576b"
            ],
            [
             0.6666666666666666,
             "#ed7953"
            ],
            [
             0.7777777777777778,
             "#fb9f3a"
            ],
            [
             0.8888888888888888,
             "#fdca26"
            ],
            [
             1,
             "#f0f921"
            ]
           ],
           "sequentialminus": [
            [
             0,
             "#0d0887"
            ],
            [
             0.1111111111111111,
             "#46039f"
            ],
            [
             0.2222222222222222,
             "#7201a8"
            ],
            [
             0.3333333333333333,
             "#9c179e"
            ],
            [
             0.4444444444444444,
             "#bd3786"
            ],
            [
             0.5555555555555556,
             "#d8576b"
            ],
            [
             0.6666666666666666,
             "#ed7953"
            ],
            [
             0.7777777777777778,
             "#fb9f3a"
            ],
            [
             0.8888888888888888,
             "#fdca26"
            ],
            [
             1,
             "#f0f921"
            ]
           ]
          },
          "colorway": [
           "#636efa",
           "#EF553B",
           "#00cc96",
           "#ab63fa",
           "#FFA15A",
           "#19d3f3",
           "#FF6692",
           "#B6E880",
           "#FF97FF",
           "#FECB52"
          ],
          "font": {
           "color": "#2a3f5f"
          },
          "geo": {
           "bgcolor": "white",
           "lakecolor": "white",
           "landcolor": "#E5ECF6",
           "showlakes": true,
           "showland": true,
           "subunitcolor": "white"
          },
          "hoverlabel": {
           "align": "left"
          },
          "hovermode": "closest",
          "mapbox": {
           "style": "light"
          },
          "paper_bgcolor": "white",
          "plot_bgcolor": "#E5ECF6",
          "polar": {
           "angularaxis": {
            "gridcolor": "white",
            "linecolor": "white",
            "ticks": ""
           },
           "bgcolor": "#E5ECF6",
           "radialaxis": {
            "gridcolor": "white",
            "linecolor": "white",
            "ticks": ""
           }
          },
          "scene": {
           "xaxis": {
            "backgroundcolor": "#E5ECF6",
            "gridcolor": "white",
            "gridwidth": 2,
            "linecolor": "white",
            "showbackground": true,
            "ticks": "",
            "zerolinecolor": "white"
           },
           "yaxis": {
            "backgroundcolor": "#E5ECF6",
            "gridcolor": "white",
            "gridwidth": 2,
            "linecolor": "white",
            "showbackground": true,
            "ticks": "",
            "zerolinecolor": "white"
           },
           "zaxis": {
            "backgroundcolor": "#E5ECF6",
            "gridcolor": "white",
            "gridwidth": 2,
            "linecolor": "white",
            "showbackground": true,
            "ticks": "",
            "zerolinecolor": "white"
           }
          },
          "shapedefaults": {
           "line": {
            "color": "#2a3f5f"
           }
          },
          "ternary": {
           "aaxis": {
            "gridcolor": "white",
            "linecolor": "white",
            "ticks": ""
           },
           "baxis": {
            "gridcolor": "white",
            "linecolor": "white",
            "ticks": ""
           },
           "bgcolor": "#E5ECF6",
           "caxis": {
            "gridcolor": "white",
            "linecolor": "white",
            "ticks": ""
           }
          },
          "title": {
           "x": 0.05
          },
          "xaxis": {
           "automargin": true,
           "gridcolor": "white",
           "linecolor": "white",
           "ticks": "",
           "title": {
            "standoff": 15
           },
           "zerolinecolor": "white",
           "zerolinewidth": 2
          },
          "yaxis": {
           "automargin": true,
           "gridcolor": "white",
           "linecolor": "white",
           "ticks": "",
           "title": {
            "standoff": 15
           },
           "zerolinecolor": "white",
           "zerolinewidth": 2
          }
         }
        },
        "title": {
         "text": "User Activation & Purchase Funnel"
        },
        "width": 1000
       }
      }
     },
     "metadata": {},
     "output_type": "display_data"
    }
   ],
   "source": [
    "# Create a DataFrame from the funnel data\n",
    "funnel_df = pd.DataFrame(funnel_data)\n",
    "\n",
    "# Create a list of text labels, setting labels for stages below 'add_shipping_info' to empty strings\n",
    "text_labels = []\n",
    "for i, stage in enumerate(funnel_df['Stage']):\n",
    "    if stage not in [\"page_view\", \"user_engagement\", \"scroll\", \"session_start\",\"first_visit\",\"view_item\",\"view_promotion\",\"add_to_cart\",\"select_item\",\"begin_checkout\",\"view_search_results\",\"add_shipping_info\"]:\n",
    "        text_labels.append('')\n",
    "    else:\n",
    "        text_labels.append(f\"{funnel_df['Count'][i]} ({funnel_df['Count'][i]/funnel_df['Count'][0]:.1%})\") # Format as Count (Percentage of Initial)\n",
    "\n",
    "\n",
    "# Plot funnel chart using Plotly\n",
    "fig = go.Figure(go.Funnel(\n",
    "    y=funnel_df['Stage'],  # Y-axis represents the stages of the funnel\n",
    "    x=funnel_df['Count'],  # X-axis represents the number of users at each stage\n",
    "    textinfo=\"text\",  # Show the custom text labels\n",
    "    text=text_labels, # Assign the custom text labels\n",
    "    textposition=\"inside\" # Position the text inside the bars\n",
    "))\n",
    "\n",
    "# Update layout with a title and size\n",
    "fig.update_layout(\n",
    "    title=\"User Activation & Purchase Funnel\",\n",
    "    autosize=False, # Disable autosize\n",
    "    width=1000, # Set the width of the chart\n",
    "    height=900 # Set the height of the chart\n",
    ")\n",
    "\n",
    "# Show the interactive funnel chart\n",
    "fig.show()"
   ]
  },
  {
   "cell_type": "code",
   "execution_count": null,
   "id": "4065dd8b",
   "metadata": {},
   "outputs": [],
   "source": []
  }
 ],
 "metadata": {
  "kernelspec": {
   "display_name": "Python 3",
   "language": "python",
   "name": "python3"
  },
  "language_info": {
   "codemirror_mode": {
    "name": "ipython",
    "version": 3
   },
   "file_extension": ".py",
   "mimetype": "text/x-python",
   "name": "python",
   "nbconvert_exporter": "python",
   "pygments_lexer": "ipython3",
   "version": "3.13.5"
  }
 },
 "nbformat": 4,
 "nbformat_minor": 5
}
